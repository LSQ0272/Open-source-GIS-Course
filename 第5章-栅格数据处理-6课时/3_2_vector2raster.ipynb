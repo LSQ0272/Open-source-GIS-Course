{
 "cells": [
  {
   "attachments": {},
   "cell_type": "markdown",
   "metadata": {},
   "source": [
<<<<<<< HEAD
    "### 栅格数据与矢量数据的相互转换\n"
=======
    "### 矢量数据转为栅格数据"
>>>>>>> origin/main
   ]
  },
  {
   "cell_type": "code",
   "execution_count": 1,
   "metadata": {},
   "outputs": [],
   "source": [
<<<<<<< HEAD
    "from osgeo import gdal\n",
    "from osgeo import osr, ogr\n",
    "import numpy as np\n",
    "import matplotlib.pyplot as plt\n",
    "import os\n"
=======
    "from osgeo import gdal, ogr\n"
>>>>>>> origin/main
   ]
  },
  {
   "cell_type": "code",
   "execution_count": 2,
   "metadata": {},
   "outputs": [],
   "source": [
<<<<<<< HEAD
    "path_vec = 'data/Section-5/s2_chenggong_mndwi_polygon.shp'\n",
=======
    "path_vec = 'data/Section-5/s2_chenggong_mndwi_thre025_polygon.shp'\n",
>>>>>>> origin/main
    "path_raster = 'data/Section-5/s2_chenggong_mndwi_polygon2raster.tif'\n"
   ]
  },
  {
   "attachments": {},
   "cell_type": "markdown",
   "metadata": {},
   "source": [
<<<<<<< HEAD
    "### 主要参数：gdal.RasterizeLayer（dataset, bands, layer, burn_values, options）\n",
    "dataset:输出栅格数据；bands:指定要更新的波段个数; layer:指定矢量图层；burn_values:输出图像的像素值；options:控制栅格化的参数。  \n",
=======
    "### 主要函数：\n",
    "#### gdal.RasterizeLayer（dataset, bands, layer, options）\n",
    "dataset:输出栅格数据；   \n",
    "bands:指定要更新的波段，为list数据类型;   \n",
    "layer:指定矢量图层；   \n",
    "options:控制栅格化的参数。  \n",
>>>>>>> origin/main
    "参考：https://gdal.org/api/python/osgeo.gdal.html "
   ]
  },
  {
   "cell_type": "code",
   "execution_count": 3,
   "metadata": {},
<<<<<<< HEAD
   "outputs": [],
   "source": [
    "from osgeo import gdal, ogr\n",
    "\n",
    "# Define pixel_size and NoData value of new raster\n",
    "pixel_size = 0.00018\n",
    "\n",
    "# Open the data source and read in the extent\n",
    "dset_vec = ogr.Open(path_vec)\n",
    "source_layer = dset_vec.GetLayer()\n",
    "x_min, x_max, y_min, y_max = source_layer.GetExtent()\n",
    "geo_trans = (x_min, pixel_size, 0, y_max, 0, -pixel_size)\n",
    "# 定义投影\n",
    "wgs84 = osr.SpatialReference(); wgs84.ImportFromEPSG(4326)\n",
    "wgs84_wkt = wgs84.ExportToWkt()\n",
    "\n",
    "# Create the destination data source\n",
    "x_size = int((x_max - x_min) / pixel_size)\n",
    "y_size = int((y_max - y_min) / pixel_size)\n",
    "dset_raster = gdal.GetDriverByName('GTiff').Create(path_raster, x_size, y_size, 1, gdal.GDT_Byte)\n",
    "dset_raster.SetGeoTransform(geo_trans)\n",
    "dset_raster.SetProjection(wgs84_wkt)\n",
    "band = dset_raster.GetRasterBand(1)\n",
    "band.SetNoDataValue(-999)\n",
    "# Rasterize\n",
    "gdal.RasterizeLayer(dataset=dset_raster, bands=[1], layer=source_layer, options=[\"ATTRIBUTE=DN\"])\n",
    "# gdal.RasterizeLayer(dataset=dset_raster, bands=[1], layer=source_layer, burn_values=[10])\n",
    "dset_raster = None\n"
   ]
  },
  {
   "attachments": {},
   "cell_type": "markdown",
   "metadata": {},
   "source": [
    "### 快捷方式（控制台命令）：gdal_rasterize/gdal.Rasterize()\n",
    "参考：https://gdal.org/programs/gdal_rasterize.html  \n",
    "\n"
   ]
  },
  {
   "cell_type": "code",
   "execution_count": 6,
   "metadata": {},
=======
>>>>>>> origin/main
   "outputs": [
    {
     "name": "stdout",
     "output_type": "stream",
     "text": [
<<<<<<< HEAD
      "0...10...20...30...40...50...60...70...80...90...100 - done.\n"
=======
      "PROJCS[\"WGS 84 / UTM zone 47N\",GEOGCS[\"WGS 84\",DATUM[\"WGS_1984\",SPHEROID[\"WGS 84\",6378137,298.257223563,AUTHORITY[\"EPSG\",\"7030\"]],AUTHORITY[\"EPSG\",\"6326\"]],PRIMEM[\"Greenwich\",0,AUTHORITY[\"EPSG\",\"8901\"]],UNIT[\"degree\",0.0174532925199433,AUTHORITY[\"EPSG\",\"9122\"]],AUTHORITY[\"EPSG\",\"4326\"]],PROJECTION[\"Transverse_Mercator\"],PARAMETER[\"latitude_of_origin\",0],PARAMETER[\"central_meridian\",99],PARAMETER[\"scale_factor\",0.9996],PARAMETER[\"false_easting\",500000],PARAMETER[\"false_northing\",0],UNIT[\"metre\",1,AUTHORITY[\"EPSG\",\"9001\"]],AXIS[\"Easting\",EAST],AXIS[\"Northing\",NORTH],AUTHORITY[\"EPSG\",\"32647\"]]\n"
>>>>>>> origin/main
     ]
    }
   ],
   "source": [
<<<<<<< HEAD
    "path_vec = 'data/Section-5/s2_chenggong_mndwi_polygon.shp'\n",
    "path_raster = 'data/Section-5/s2_chenggong_mndwi_polygon2raster.tif'\n",
    "!gdal_rasterize -b 1 -l s2_chenggong_mndwi_polygon $path_vec $path_raster -a DN\n"
=======
    "# Open the data source and read in the extent\n",
    "dsource_vec = ogr.Open(path_vec)\n",
    "layer_vec = dsource_vec.GetLayer()\n",
    "proj_vec = layer_vec.GetSpatialRef()\n",
    "proj_vec_wkt = proj_vec.ExportToWkt()\n",
    "print(proj_vec_wkt)\n",
    "x_min, x_max, y_min, y_max = layer_vec.GetExtent()\n"
   ]
  },
  {
   "cell_type": "code",
   "execution_count": 4,
   "metadata": {},
   "outputs": [
    {
     "data": {
      "text/plain": [
       "0"
      ]
     },
     "execution_count": 4,
     "metadata": {},
     "output_type": "execute_result"
    }
   ],
   "source": [
    "## Define pixel_size and geo_trans\n",
    "pixel_size = 20\n",
    "geo_trans = (x_min, pixel_size, 0, y_max, 0, -pixel_size)\n",
    "# Create the destination data source\n",
    "x_size = int((x_max - x_min) / pixel_size)\n",
    "y_size = int((y_max - y_min) / pixel_size)\n",
    "dset_raster = gdal.GetDriverByName('GTiff').Create(path_raster, \n",
    "                                                    xsize=x_size, \n",
    "                                                    ysize=y_size, \n",
    "                                                    bands=1, \n",
    "                                                    eType=gdal.GDT_Int16\n",
    "                                                    )\n",
    "dset_raster.SetGeoTransform(geo_trans)\n",
    "dset_raster.SetProjection(proj_vec_wkt)\n"
   ]
  },
  {
   "cell_type": "code",
   "execution_count": 5,
   "metadata": {},
   "outputs": [],
   "source": [
    "# Rasterize\n",
    "gdal.RasterizeLayer(dataset=dset_raster, bands=[1], layer=layer_vec, options=[\"ATTRIBUTE=DN\"])\n",
    "dset_raster = None\n",
    "\n"
>>>>>>> origin/main
   ]
  },
  {
   "attachments": {},
   "cell_type": "markdown",
   "metadata": {},
   "source": [
    "### 课后练习\n",
<<<<<<< HEAD
    "在将矢量数据转为栅格数据中，使转换获得的栅格数据尺寸、分辨率、投影等信息与用于获得呈贡区域mndwi指数图像的原始遥感影像一致。\n",
=======
    "#### 快捷方式（控制台命令）：gdal_rasterize/gdal.Rasterize()\n",
    "参考：https://gdal.org/programs/gdal_rasterize.html  \n",
    "\n"
   ]
  },
  {
   "cell_type": "code",
   "execution_count": 6,
   "metadata": {},
   "outputs": [],
   "source": [
    "# path_vec = 'data/Section-5/s2_chenggong_mndwi_polygon.shp'\n",
    "# path_raster = 'data/Section-5/s2_chenggong_mndwi_polygon2raster.tif'\n",
    "# !gdal_rasterize -b 1 -l s2_chenggong_mndwi_polygon $path_vec $path_raster -a DN\n",
>>>>>>> origin/main
    "\n"
   ]
  }
 ],
 "metadata": {
  "kernelspec": {
   "display_name": "venv",
   "language": "python",
   "name": "python3"
  },
  "language_info": {
   "codemirror_mode": {
    "name": "ipython",
    "version": 3
   },
   "file_extension": ".py",
   "mimetype": "text/x-python",
   "name": "python",
   "nbconvert_exporter": "python",
   "pygments_lexer": "ipython3",
<<<<<<< HEAD
   "version": "3.9.15"
=======
   "version": "3.9.18"
>>>>>>> origin/main
  },
  "orig_nbformat": 4
 },
 "nbformat": 4,
 "nbformat_minor": 2
}
