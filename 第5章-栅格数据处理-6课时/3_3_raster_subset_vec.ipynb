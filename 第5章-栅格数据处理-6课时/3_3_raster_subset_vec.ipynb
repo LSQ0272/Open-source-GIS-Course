{
 "cells": [
  {
   "attachments": {},
   "cell_type": "markdown",
   "metadata": {},
   "source": [
    "### 利用矢量数据对栅格数据进行裁剪\n"
   ]
  },
  {
   "cell_type": "code",
<<<<<<< HEAD
   "execution_count": 2,
   "metadata": {},
   "outputs": [],
   "source": [
    "from osgeo import gdal\n",
    "from osgeo import osr, ogr\n",
    "import numpy as np\n",
    "import matplotlib.pyplot as plt\n",
    "import os\n"
=======
   "execution_count": 1,
   "metadata": {},
   "outputs": [],
   "source": [
    "from osgeo import gdal\n"
>>>>>>> origin/main
   ]
  },
  {
   "cell_type": "code",
<<<<<<< HEAD
   "execution_count": 7,
   "metadata": {},
   "outputs": [],
   "source": [
    "path_vec = 'data/Section-5/s2_chenggong_mndwi_polygon.shp'\n",
    "path_rsimg = 'data/Section-2/s2_chenggong_20200411_6bands_20m_wgs84.tif'\n",
    "path_rsimg_subs = 'data/Section-5/s2_chenggong_wgs84_subs.tif'\n"
=======
   "execution_count": 2,
   "metadata": {},
   "outputs": [],
   "source": [
    "path_rsimg = 'data/Section-2/s2_chenggong_20200411_6bands_20m.tif'\n",
    "path_vec = 'data/Section-5/s2_chenggong_mndwi_thre025_polygon.shp'\n",
    "path_rsimg_subs = 'data/Section-5/s2_chenggong_wat_subs.tif'\n"
>>>>>>> origin/main
   ]
  },
  {
   "attachments": {},
   "cell_type": "markdown",
   "metadata": {},
   "source": [
<<<<<<< HEAD
    "### gdal代码实验思路\n",
    "问题转换：利用矢量数据对遥感影像进行裁剪，实际上是对矢量数据范围外的遥感影像进行膜掉处理。\n",
    "实现步骤：  \n",
    "1. 利用gdal.Open()函数打开遥感影像，获得遥感影像地理转换参数、投影、以及影像数组。\n",
    "2. 将矢量数据转换为与遥感影像投影、地理转换参数、影像宽高一致的栅格数据，转换获得的栅格矢量范围内为1，范围外为0，此栅格数据可看着掩膜影像。\n",
    "3. 将掩膜影像数组与遥感影像数组进行对应像元相乘，获得掩膜后数组，利用遥感影像地理转换参数、投影，将其写出为栅格数据。该数据即为矢量裁剪后遥感影像数据。\n"
   ]
  },
  {
   "attachments": {},
   "cell_type": "markdown",
   "metadata": {},
   "source": [
    "### 快捷方式（python函数）：gdal.Warp()\n",
    "用法：dset_subs = gdal.Warp(destNameOrDestDS, srcDSOrSrcDSTab, cutlineDSName)   \n",
    "其中主要参数destNameOrDestDS为输出裁剪后图像路径，srcDSOrSrcDSTab为原始图像路径；cutlineDSName为矢量文件路径。   \n",
=======
    "#### 快捷方式（函数/命令行）：gdal.Warp()/gdalwarp\n",
    "函数用法：dset_subs = gdal.Warp(destNameOrDestDS, srcDSOrSrcDSTab, cutlineDSName)     \n",
    "其中主要参数：  \n",
    "destNameOrDestDS：为输出裁剪后图像路径，  \n",
    "srcDSOrSrcDSTab为原始图像路径；   \n",
    "cutlineDSName为矢量文件路径。    \n",
    "命令行用法：\n",
    "gdalwarp -cutline $path_vec $path_rsimg $path_rsimg_subs\n",
    "\n",
    "\n",
>>>>>>> origin/main
    "具体可参考：https://gdal.org/api/python/osgeo.gdal.html\n"
   ]
  },
  {
   "cell_type": "code",
<<<<<<< HEAD
   "execution_count": 8,
   "metadata": {},
   "outputs": [],
   "source": [
    "dset_rsimg = gdal.Open(path_rsimg)\n",
    "dset_rsimg_subs = gdal.Warp(destNameOrDestDS=path_rsimg_subs, \\\n",
    "                            srcDSOrSrcDSTab=path_rsimg,\\\n",
    "                            cutlineDSName = path_vec)\n",
=======
   "execution_count": 3,
   "metadata": {},
   "outputs": [],
   "source": [
    "### ！应确保矢量数据所有要素的有效性（可用qgis检查）。\n",
    "dset_rsimg_subs = gdal.Warp(destNameOrDestDS = path_rsimg_subs, \n",
    "                            srcDSOrSrcDSTab = path_rsimg,                            \n",
    "                            cutlineDSName = path_vec,\n",
    "                            cropToCutline = True,\n",
    "                            dstNodata=0)\n",
>>>>>>> origin/main
    "dset_rsimg_subs = None\n"
   ]
  },
  {
<<<<<<< HEAD
   "attachments": {},
   "cell_type": "markdown",
   "metadata": {},
   "source": [
    "### 快捷方式（命令行）：gdalwarp\n",
    "用法参考：https://gdal.org/programs/gdalwarp.html\n"
   ]
  },
  {
   "cell_type": "code",
   "execution_count": 7,
   "metadata": {},
   "outputs": [
    {
     "name": "stdout",
     "output_type": "stream",
     "text": [
      "Creating output file that is 1573P x 1291L.\n",
      "Processing data/Section_5/rsimg_chenggong_wgs84.tif [1/1] : 0...10...20...30...40...50...60...70...80...90...100 - done.\n"
     ]
    }
   ],
   "source": [
    "## path_shp为矢量数据路径； path_input和path_output分别为\n",
    "!gdalwarp -co COMPRESS=LZW -cutline $path_vec -crop_to_cutline $path_rsimg $path_rsimg_subs\n",
=======
   "cell_type": "markdown",
   "metadata": {},
   "source": [
    "#### gdal代码实验思路\n",
    "问题转换：利用矢量数据对遥感影像进行裁剪，实际上是对矢量数据范围外的遥感影像进行膜掉处理。\n",
    "实现步骤：  \n",
    "1. 矢量数据栅格化（3.2小节讲授内容），满足1）获得栅格数据与待裁剪影像尺寸，地理范围一致，2）获得矢量范围内栅格像元值为1，矢量范围外栅格像元值为0的栅格数据。\n",
    "2. 所得栅格数据与待裁剪影像进行对应像元相乘（影像掩膜），所得矩阵写出为栅格数据。该栅格数据即为矢量裁剪后遥感影像数据。\n",
    "#### 课后练习\n",
    "试根据gdal代码实现思路，采用非快捷方式完成栅格数据的矢量裁剪。\n",
>>>>>>> origin/main
    "\n"
   ]
  }
 ],
 "metadata": {
  "kernelspec": {
   "display_name": "venv",
   "language": "python",
   "name": "python3"
  },
  "language_info": {
   "codemirror_mode": {
    "name": "ipython",
    "version": 3
   },
   "file_extension": ".py",
   "mimetype": "text/x-python",
   "name": "python",
   "nbconvert_exporter": "python",
   "pygments_lexer": "ipython3",
<<<<<<< HEAD
   "version": "3.9.15"
=======
   "version": "3.9.18"
>>>>>>> origin/main
  },
  "orig_nbformat": 4
 },
 "nbformat": 4,
 "nbformat_minor": 2
}
