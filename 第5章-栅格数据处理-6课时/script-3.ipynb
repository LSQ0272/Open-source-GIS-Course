{
 "cells": [
  {
   "cell_type": "code",
   "execution_count": 3,
   "metadata": {},
   "outputs": [],
   "source": [
    "from osgeo import gdal\n",
    "\n"
   ]
  },
  {
   "cell_type": "code",
   "execution_count": 4,
   "metadata": {},
   "outputs": [],
   "source": [
    "path_img = 'data/Section-2/s2_chenggong_20200411_6bands_20m.tif'\n",
    "path_vec = 'data/Section-5/s2_chenggong_mndwi_thre025_polygon.shp'\n",
    "path_img_subs = 'data/Section-5/s2_chonggong_wat_subs.tif'\n"
   ]
  },
  {
   "cell_type": "markdown",
   "metadata": {},
   "source": [
    "#### 快捷方式（函数/命令行）：gdal.Warp()/gdalwarp\n",
    "函数用法：dset_subs = gdal.Warp(destNameOrDestDS, srcDSOrSrcDSTab, cutlineDSName)     \n",
    "其中主要参数：  \n",
    "destNameOrDestDS：为输出裁剪后图像路径，  \n",
    "srcDSOrSrcDSTab为原始图像路径；   \n",
    "cutlineDSName为矢量文件路径。    \n",
    "命令行用法：\n",
    "gdalwarp -cutline $path_vec $path_rsimg $path_rsimg_subs\n",
    "\n",
    "\n",
    "具体可参考：https://gdal.org/api/python/osgeo.gdal.html\n"
   ]
  },
  {
   "cell_type": "code",
   "execution_count": 5,
   "metadata": {},
   "outputs": [],
   "source": [
    "gdal.Warp(destNameOrDestDS=path_img_subs, srcDSOrSrcDSTab=path_img, cutlineDSName=path_vec)\n",
    "\n"
   ]
  },
  {
   "cell_type": "code",
   "execution_count": null,
   "metadata": {},
   "outputs": [],
   "source": [
    "\n"
   ]
  },
  {
   "cell_type": "markdown",
   "metadata": {},
   "source": [
    "#### gdal代码实验思路\n",
    "问题转换：利用矢量数据对遥感影像进行裁剪，实际上是对矢量数据范围外的遥感影像进行膜掉处理。\n",
    "实现步骤：  \n",
    "1. 矢量数据栅格化（3.2小节讲授内容），满足1）获得栅格数据与待裁剪影像尺寸，地理范围一致，2）获得矢量范围内栅格像元值为1，矢量范围外栅格像元值为0的栅格数据。\n",
    "2. 所得栅格数据与待裁剪影像进行对应像元相乘（影像掩膜），所得矩阵写出为栅格数据。该栅格数据即为矢量裁剪后遥感影像数据。\n",
    "#### 课后练习\n",
    "试根据gdal代码实现思路，采用非快捷方式完成栅格数据的矢量裁剪。\n",
    "\n"
   ]
  }
 ],
 "metadata": {
  "kernelspec": {
   "display_name": "venv",
   "language": "python",
   "name": "python3"
  },
  "language_info": {
   "codemirror_mode": {
    "name": "ipython",
    "version": 3
   },
   "file_extension": ".py",
   "mimetype": "text/x-python",
   "name": "python",
   "nbconvert_exporter": "python",
   "pygments_lexer": "ipython3",
   "version": "3.9.18"
  }
 },
 "nbformat": 4,
 "nbformat_minor": 2
}
