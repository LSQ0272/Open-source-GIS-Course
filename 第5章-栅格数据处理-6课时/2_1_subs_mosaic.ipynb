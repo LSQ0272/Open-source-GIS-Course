{
 "cells": [
  {
   "attachments": {},
   "cell_type": "markdown",
   "metadata": {},
   "source": [
    "### 实现影像的裁剪、拼接\n",
    "#### 1. 影像裁剪"
   ]
  },
  {
   "cell_type": "code",
   "execution_count": 18,
   "metadata": {},
   "outputs": [],
   "source": [
    "from osgeo import gdal\n",
    "import numpy as np\n"
   ]
  },
  {
   "cell_type": "code",
   "execution_count": 19,
   "metadata": {},
   "outputs": [],
   "source": [
    "path_img = 'data/Section-2/s2_chenggong_20200411_6bands_20m.tif'\n"
   ]
  },
  {
   "cell_type": "code",
   "execution_count": 20,
   "metadata": {},
   "outputs": [
    {
     "name": "stdout",
     "output_type": "stream",
     "text": [
      "geotrans: (874420.0, 20.0, 0.0, 2769600.0, 0.0, -20.0)\n",
      "extent: 874420.0 904220.0 2737000.0 2769600.0\n"
     ]
    }
   ],
   "source": [
    "dset = gdal.Open(path_img)\n",
    "geo_trans = dset.GetGeoTransform()          ### 地理转换参数\n",
    "print('geotrans:', geo_trans)\n",
    "x_min, y_max = geo_trans[0], geo_trans[3]   ### 左上角坐标\n",
    "x_max = geo_trans[0]+geo_trans[1]*dset.RasterXSize\n",
    "y_min = geo_trans[3]+geo_trans[5]*dset.RasterYSize\n",
    "print('extent:', x_min, x_max, y_min, y_max)\n"
   ]
  },
  {
   "cell_type": "code",
   "execution_count": 34,
   "metadata": {},
   "outputs": [],
   "source": [
    "### 设定裁剪范围\n",
    "x_min_subs, x_max_subs = 880003, 890009\n",
    "y_min_subs, y_max_subs = 2742005, 2752003\n"
   ]
  },
  {
   "cell_type": "markdown",
   "metadata": {},
   "source": [
    "#### 计算裁剪范围对应图像坐标\n"
   ]
  },
  {
   "cell_type": "code",
   "execution_count": 35,
   "metadata": {},
   "outputs": [
    {
     "name": "stdout",
     "output_type": "stream",
     "text": [
      "479.85 529.15\n"
     ]
    }
   ],
   "source": [
    "## x_start_img, y_start_img -> 874420.0, 2769600.0\n",
    "## x_start_subs, y_start_subs -> 880003, 2760003\n",
    "col_start_subs = (x_min_subs - geo_trans[0])/geo_trans[1]\n",
    "row_start_subs = (y_max_subs - geo_trans[3])/geo_trans[5]\n",
    "print(row_start_subs, col_start_subs)\n"
   ]
  },
  {
   "cell_type": "code",
   "execution_count": 36,
   "metadata": {},
   "outputs": [
    {
     "name": "stdout",
     "output_type": "stream",
     "text": [
      "new start point of the image coordinate: 480 529\n",
      "885000.0 2760000.0\n"
     ]
    }
   ],
   "source": [
    "### 裁剪影像起点行列号调整，及裁剪影像起点地理坐标调整\n",
    "row_start_subs_update, col_start_subs_update = round(row_start_subs), round(col_start_subs)\n",
    "print('new start point of the image coordinate:', row_start_subs_update, col_start_subs_update)\n",
    "### 更新裁剪范围起点地理坐标\n",
    "x_min_subs_update = geo_trans[0] + col_start_subs_update*geo_trans[1]\n",
    "y_max_subs_update = geo_trans[3] + row_start_subs_update*geo_trans[5]\n",
    "print(x_min_subs_update, y_max_subs_update)\n"
   ]
  },
  {
   "cell_type": "markdown",
   "metadata": {},
   "source": [
    "#### 计算裁剪影像尺寸"
   ]
  },
  {
   "cell_type": "code",
   "execution_count": 37,
   "metadata": {},
   "outputs": [
    {
     "name": "stdout",
     "output_type": "stream",
     "text": [
      "750.45 499.75\n"
     ]
    }
   ],
   "source": [
    "x_size_subs = (x_max_subs-x_min_subs_update)/geo_trans[1]\n",
    "y_size_subs = -(y_max_subs_update-y_min_subs)/geo_trans[5]\n",
    "print(x_size_subs, y_size_subs)\n"
   ]
  },
  {
   "cell_type": "code",
   "execution_count": 38,
   "metadata": {},
   "outputs": [
    {
     "name": "stdout",
     "output_type": "stream",
     "text": [
      "750 500\n"
     ]
    }
   ],
   "source": [
    "### 更新遥感影像尺寸\n",
    "x_size_subs_update, y_size_subs_update = round(x_size_subs), round(y_size_subs)\n",
    "print(x_size_subs_update, y_size_subs_update)\n"
   ]
  },
  {
   "cell_type": "markdown",
   "metadata": {},
   "source": [
    "#### 更新裁剪影像范围右下角点地理坐标"
   ]
  },
  {
   "cell_type": "code",
   "execution_count": 39,
   "metadata": {},
   "outputs": [
    {
     "name": "stdout",
     "output_type": "stream",
     "text": [
      "900000.0 2750000.0\n"
     ]
    }
   ],
   "source": [
    "x_max_subs_update = x_min_subs_update + x_size_subs_update*geo_trans[1]\n",
    "y_min_subs_update = y_max_subs_update + y_size_subs_update*geo_trans[5]\n",
    "print(x_max_subs_update, y_min_subs_update)\n",
    "\n"
   ]
  },
  {
   "cell_type": "code",
   "execution_count": 40,
   "metadata": {},
   "outputs": [
    {
     "name": "stdout",
     "output_type": "stream",
     "text": [
      "new extent: [885000.0, 900000.0, 2750000.0, 2760000.0]\n"
     ]
    }
   ],
   "source": [
    "extent_subs_update = [x_min_subs_update, x_max_subs_update, y_min_subs_update, y_max_subs_update]  #\n",
    "print('new extent:', extent_subs_update)\n"
   ]
  },
  {
   "cell_type": "markdown",
   "metadata": {},
   "source": [
    "#### 裁剪影像地理转换参数确定"
   ]
  },
  {
   "cell_type": "code",
   "execution_count": 41,
   "metadata": {},
   "outputs": [
    {
     "data": {
      "text/plain": [
       "[885000.0, 20, 0, 2760000.0, 0, -20]"
      ]
     },
     "execution_count": 41,
     "metadata": {},
     "output_type": "execute_result"
    }
   ],
   "source": [
    "geotrans_subs = [x_min_subs_update, 20, 0, y_max_subs_update, 0, -20]\n",
    "geotrans_subs\n"
   ]
  },
  {
   "cell_type": "markdown",
   "metadata": {},
   "source": [
    "#### 影像裁剪"
   ]
  },
  {
   "cell_type": "code",
   "execution_count": 42,
   "metadata": {},
   "outputs": [
    {
     "name": "stdout",
     "output_type": "stream",
     "text": [
      "(6, 1630, 1490)\n"
     ]
    }
   ],
   "source": [
    "### 获取裁剪影像数组\n",
    "img_array = dset.ReadAsArray()\n",
    "print(img_array.shape)          ### （波段数，行，列) -> (波段数,y,x)\n"
   ]
  },
  {
   "cell_type": "code",
   "execution_count": 43,
   "metadata": {},
   "outputs": [
    {
     "name": "stdout",
     "output_type": "stream",
     "text": [
      "(6, 500, 750)\n"
     ]
    }
   ],
   "source": [
    "### 获取裁剪影像数组\n",
    "### 设定x,y方向上裁剪影像和原始影像左上角像元个数差异为0，709，获得裁剪影像数组\n",
    "img_array_subs = img_array[:, \n",
    "                           row_start_subs_update:row_start_subs_update+y_size_subs_update, \n",
    "                           col_start_subs_update:col_start_subs_update+x_size_subs_update]\n",
    "print(img_array_subs.shape)\n"
   ]
  },
  {
   "cell_type": "code",
   "execution_count": 44,
   "metadata": {},
   "outputs": [],
   "source": [
    "path_subs = 'data/Section-5/s2_chenggong_20200411_6bands_20m_subs.tif'\n",
    "driver = gdal.GetDriverByName('GTiff')\n",
    "dset_subs = driver.Create(path_subs, \n",
    "                           xsize = x_size_subs_update, \n",
    "                           ysize = y_size_subs_update, \n",
    "                           bands=dset.RasterCount, \n",
    "                           eType=gdal.GDT_Int16)\n",
    "dset_subs.SetGeoTransform(geotrans_subs)\n",
    "dset_subs.SetProjection(dset.GetProjection())\n",
    "for i in range(dset.RasterCount):\n",
    "    outband = dset_subs.GetRasterBand(i+1)       ### 获取波段1\n",
    "    outband.WriteArray(img_array_subs[i])        ### 将np.array()数组写入波段1\n",
    "dset_subs = None\n"
   ]
  },
  {
   "attachments": {},
   "cell_type": "markdown",
   "metadata": {},
   "source": [
    "##### 课堂练习：基于gdal库练习影像裁剪，裁剪范围为：\n",
    "x_min_subs2, x_max_subs2 = 885003, 900009   \n",
    "y_min_subs2, y_max_subs2 = 2750005, 2760003   \n",
    "并将该裁剪影像重采样为23米分辨率。  "
   ]
  },
  {
   "cell_type": "code",
   "execution_count": 45,
   "metadata": {},
   "outputs": [],
   "source": [
    "### 对subs2影像重采样，采样分辨率为23米\n",
    "path_resam_subs2 = 'data/Section-5/s2_chenggong_20200411_6bands_20m_subs_2.tif'\n",
    "path_resam_ = 'data/Section-5/s2_chenggong_20200411_6bands_20m_subs_2_resam.tif'\n",
    "warp_resam = gdal.Warp(destNameOrDestDS=path_resam_, srcDSOrSrcDSTab=path_resam_subs2, xRes=23, yRes=23)  ### 利用gdal.Warp()进行投影转换\n",
    "warp_resam = None   ### !!关闭文件\n"
   ]
  },
  {
   "attachments": {},
   "cell_type": "markdown",
   "metadata": {},
   "source": [
    "#### 2. 影像拼接"
   ]
  },
  {
   "cell_type": "markdown",
   "metadata": {},
   "source": [
    "#### 将20m分辨率subs1和23m分辨率subs2影像进行拼接。\n"
   ]
  },
  {
   "cell_type": "code",
   "execution_count": 46,
   "metadata": {},
   "outputs": [],
   "source": [
    "path_img_1 = 'data/Section-5/s2_chenggong_20200411_6bands_20m_subs.tif'\n",
    "path_img_2 = 'data/Section-5/s2_chenggong_20200411_6bands_20m_subs_2_resam.tif'\n"
   ]
  },
  {
   "cell_type": "code",
   "execution_count": 48,
   "metadata": {},
   "outputs": [
    {
     "name": "stdout",
     "output_type": "stream",
     "text": [
      "subs1: (880000.0, 20.0, 0.0, 2752000.0, 0.0, -20.0)\n",
      "subs2: (885000.0, 23.0, 0.0, 2760000.0, 0.0, -23.0)\n",
      "880000.0 2752000.0\n",
      "885000.0 2760000.0\n"
     ]
    }
   ],
   "source": [
    "dset_subs1 = gdal.Open(path_img_1)\n",
    "dset_subs2 = gdal.Open(path_img_2)\n",
    "geo_trans_subs1 = dset_subs1.GetGeoTransform()        ### 地理转换参数\n",
    "geo_trans_subs2 = dset_subs2.GetGeoTransform()        ### 地理转换参数\n",
    "print('subs1:', geo_trans_subs1)\n",
    "print('subs2:', geo_trans_subs2)\n",
    "x_min_subs1 = geo_trans_subs1[0]\n",
    "y_max_subs1 = geo_trans_subs1[3]\n",
    "x_min_subs2 = geo_trans_subs2[0]\n",
    "y_max_subs2 = geo_trans_subs2[3]\n",
    "print(x_min_subs1, y_max_subs1)\n",
    "print(x_min_subs2, y_max_subs2)\n"
   ]
  },
  {
   "cell_type": "code",
   "execution_count": 50,
   "metadata": {},
   "outputs": [
    {
     "name": "stdout",
     "output_type": "stream",
     "text": [
      "extent_subs1: 880000.0 890000.0 2742000.0 2752000.0\n",
      "extent_subs2: 885000.0 899996.0 2749995.0 2760000.0\n"
     ]
    }
   ],
   "source": [
    "x_max_subs1 = x_min_subs1 + dset_subs1.RasterXSize * geo_trans_subs1[1]\n",
    "y_min_subs1 = y_max_subs1 + dset_subs1.RasterYSize * geo_trans_subs1[5]\n",
    "print('extent_subs1:', x_min_subs1, x_max_subs1, y_min_subs1, y_max_subs1)\n",
    "x_max_subs2 = x_min_subs2 + dset_subs2.RasterXSize * geo_trans_subs2[1]\n",
    "y_min_subs2 = y_max_subs2 + dset_subs2.RasterYSize * geo_trans_subs2[5]\n",
    "print('extent_subs2:', x_min_subs2, x_max_subs2, y_min_subs2, y_max_subs2)\n"
   ]
  },
  {
   "cell_type": "code",
   "execution_count": 51,
   "metadata": {},
   "outputs": [
    {
     "name": "stdout",
     "output_type": "stream",
     "text": [
      "拼接影像范围： [880000.0, 899996.0, 2742000.0, 2742000.0]\n"
     ]
    }
   ],
   "source": [
    "x_max_mosaic = max(x_max_subs1, x_max_subs2)\n",
    "x_min_mosaic = min(x_min_subs1, x_min_subs2)\n",
    "y_max_mosaic = max(y_max_subs1, y_max_subs2)\n",
    "y_min_mosaic = min(y_min_subs1, y_min_subs2)\n",
    "extent_mosaic = [x_min_mosaic, x_max_mosaic, y_min_mosaic, y_min_mosaic]\n",
    "print('拼接影像范围：', extent_mosaic)\n"
   ]
  },
  {
   "cell_type": "code",
   "execution_count": 52,
   "metadata": {},
   "outputs": [
    {
     "name": "stdout",
     "output_type": "stream",
     "text": [
      "20.0 -20.0\n"
     ]
    }
   ],
   "source": [
    "### 定义拼接影像分辨率（采用拼接影像subs1分辨率）\n",
    "x_res_mosaic, y_res_mosaic = geo_trans_subs1[1], geo_trans_subs1[5]\n",
    "print(x_res_mosaic, y_res_mosaic)\n"
   ]
  },
  {
   "cell_type": "code",
   "execution_count": 63,
   "metadata": {},
   "outputs": [],
   "source": [
    "### 将待拼接影像裁剪为所定义分辨率。\n",
    "path_img_2_resam = 'data/Section-5/s2_chenggong_20200411_6bands_20m_subs_2_resam_.tif'\n",
    "warp_resam = gdal.Warp(destNameOrDestDS=path_img_2_resam, srcDSOrSrcDSTab=path_img_2, xRes=20, yRes=20)  ### 利用gdal.Warp()进行投影转换\n"
   ]
  },
  {
   "cell_type": "code",
   "execution_count": 64,
   "metadata": {},
   "outputs": [
    {
     "data": {
      "text/plain": [
       "(885000.0, 20.0, 0.0, 2760000.0, 0.0, -20.0)"
      ]
     },
     "execution_count": 64,
     "metadata": {},
     "output_type": "execute_result"
    }
   ],
   "source": [
    "dset_subs2 = gdal.Open(path_img_2_resam)\n",
    "dset_subs2.GetGeoTransform()\n"
   ]
  },
  {
   "cell_type": "code",
   "execution_count": 65,
   "metadata": {},
   "outputs": [
    {
     "name": "stdout",
     "output_type": "stream",
     "text": [
      "999.8 900.0\n"
     ]
    }
   ],
   "source": [
    "x_size_mosaic = (x_max_mosaic - x_min_mosaic)/x_res_mosaic\n",
    "y_size_mosaic = -(y_max_mosaic - y_min_mosaic)/y_res_mosaic\n",
    "print(x_size_mosaic, y_size_mosaic)\n"
   ]
  },
  {
   "cell_type": "code",
   "execution_count": 66,
   "metadata": {},
   "outputs": [
    {
     "name": "stdout",
     "output_type": "stream",
     "text": [
      "1000 900\n",
      "900000.0 2742000.0\n"
     ]
    }
   ],
   "source": [
    "### 尺寸整数化及拼接影像空间范围更新\n",
    "x_size_mosaic_update, y_size_mosaic_update = round(x_size_mosaic), round(y_size_mosaic)\n",
    "print(x_size_mosaic_update, y_size_mosaic_update)\n",
    "## 更新拼接范围（右下角点坐标）\n",
    "x_max_mosaic_update = x_min_mosaic + x_res_mosaic*x_size_mosaic_update\n",
    "y_min_mosaic_update = y_max_mosaic + y_res_mosaic*y_size_mosaic_update\n",
    "print(x_max_mosaic_update, y_min_mosaic_update)\n"
   ]
  },
  {
   "cell_type": "code",
   "execution_count": 67,
   "metadata": {},
   "outputs": [
    {
     "data": {
      "text/plain": [
       "[880000.0, 20.0, 0, 2760000.0, 0, -20.0]"
      ]
     },
     "execution_count": 67,
     "metadata": {},
     "output_type": "execute_result"
    }
   ],
   "source": [
    "### 获得拼接影像地理转换参数\n",
    "geotrans_mosaic = [x_min_mosaic, x_res_mosaic, 0, y_max_mosaic, 0, y_res_mosaic]\n",
    "geotrans_mosaic\n"
   ]
  },
  {
   "cell_type": "code",
   "execution_count": 68,
   "metadata": {},
   "outputs": [
    {
     "data": {
      "text/plain": [
       "(6, 900, 1000)"
      ]
     },
     "execution_count": 68,
     "metadata": {},
     "output_type": "execute_result"
    }
   ],
   "source": [
    "### 建立空数组\n",
    "img_array_mosaic = np.zeros(shape=(dset_subs1.RasterCount, y_size_mosaic_update, x_size_mosaic_update))\n",
    "img_array_mosaic.shape\n"
   ]
  },
  {
   "cell_type": "code",
   "execution_count": 69,
   "metadata": {},
   "outputs": [
    {
     "name": "stdout",
     "output_type": "stream",
     "text": [
      "400 0\n",
      "0 250\n"
     ]
    }
   ],
   "source": [
    "### 待拼接影像起点在拼接影像上位置\n",
    "### subs1\n",
    "row_start_subs1 = int((y_max_subs1 - y_max_mosaic)/y_res_mosaic)\n",
    "col_start_subs1 = int((x_min_subs1 - x_min_mosaic)/x_res_mosaic)\n",
    "print(row_start_subs1, col_start_subs1)\n",
    "img_array_mosaic[:, row_start_subs1:row_start_subs1+dset_subs1.RasterYSize, \\\n",
    "                 col_start_subs1:col_start_subs1+dset_subs1.RasterXSize] = dset_subs1.ReadAsArray()\n",
    "\n",
    "### subs2\n",
    "row_start_subs2 = int((y_max_subs2 - y_max_mosaic)/y_res_mosaic)\n",
    "col_start_subs2 = int((x_min_subs2 - x_min_mosaic)/x_res_mosaic)\n",
    "print(row_start_subs2, col_start_subs2)\n",
    "img_array_mosaic[:, row_start_subs2:row_start_subs2+dset_subs2.RasterYSize, \\\n",
    "                 col_start_subs2:col_start_subs2+dset_subs2.RasterXSize] = dset_subs2.ReadAsArray()\n"
   ]
  },
  {
   "cell_type": "markdown",
   "metadata": {},
   "source": [
    "#### 写出拼接影像"
   ]
  },
  {
   "cell_type": "code",
   "execution_count": 70,
   "metadata": {},
   "outputs": [],
   "source": [
    "path_mosaic = 'data/Section-5/s2_chenggong_20200411_6bands_20m_subs_mosaic.tif'\n",
    "driver = gdal.GetDriverByName('GTiff')\n",
    "dset_mosaic = driver.Create(path_mosaic, \n",
    "                            xsize = x_size_mosaic_update, \n",
    "                            ysize = y_size_mosaic_update, \n",
    "                            bands=dset_subs1.RasterCount, \n",
    "                            eType=gdal.GDT_Int16)\n",
    "dset_mosaic.SetGeoTransform(geotrans_mosaic)\n",
    "dset_mosaic.SetProjection(dset_subs1.GetProjection())\n",
    "\n",
    "for i in range(dset_subs1.RasterCount):\n",
    "    outband = dset_mosaic.GetRasterBand(i+1)       ### 获取波段1\n",
    "    outband.WriteArray(img_array_mosaic[i])        ### 将np.array()数组写入波段1\n",
    "dset_mosaic = None\n",
    "\n"
   ]
  },
  {
   "attachments": {},
   "cell_type": "markdown",
   "metadata": {},
   "source": [
    "### 课堂练习\n",
    "采用快捷方式进行影像拼接裁剪\n",
    "影像裁剪: gdal_translate   \n",
    "(参考：https://gdal.org/programs/gdal_translate.html)    \n",
    "影像拼接：gdal_merge   \n",
    "(参考：https://gdal.org/programs/gdal_merge.html)\n"
   ]
  }
 ],
 "metadata": {
  "kernelspec": {
   "display_name": "venv",
   "language": "python",
   "name": "python3"
  },
  "language_info": {
   "codemirror_mode": {
    "name": "ipython",
    "version": 3
   },
   "file_extension": ".py",
   "mimetype": "text/x-python",
   "name": "python",
   "nbconvert_exporter": "python",
   "pygments_lexer": "ipython3",
   "version": "3.9.18"
  },
  "orig_nbformat": 4
 },
 "nbformat": 4,
 "nbformat_minor": 2
}
